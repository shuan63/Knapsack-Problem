{
 "cells": [
  {
   "cell_type": "code",
   "execution_count": 1,
   "metadata": {},
   "outputs": [
    {
     "ename": "NameError",
     "evalue": "name 'infile' is not defined",
     "output_type": "error",
     "traceback": [
      "\u001b[0;31m---------------------------------------------------------------------------\u001b[0m",
      "\u001b[0;31mNameError\u001b[0m                                 Traceback (most recent call last)",
      "\u001b[0;32m<ipython-input-1-819a750b6b5b>\u001b[0m in \u001b[0;36m<module>\u001b[0;34m()\u001b[0m\n\u001b[1;32m      2\u001b[0m \u001b[0;34m\u001b[0m\u001b[0m\n\u001b[1;32m      3\u001b[0m \u001b[0mfile\u001b[0m \u001b[0;34m=\u001b[0m \u001b[0;34m\"./35_midterm_knapsack.csv\"\u001b[0m\u001b[0;34m\u001b[0m\u001b[0m\n\u001b[0;32m----> 4\u001b[0;31m \u001b[0mcontent\u001b[0m \u001b[0;34m=\u001b[0m \u001b[0mopen\u001b[0m\u001b[0;34m(\u001b[0m\u001b[0minfile\u001b[0m\u001b[0;34m,\u001b[0m \u001b[0;34m\"r\"\u001b[0m\u001b[0;34m)\u001b[0m\u001b[0;34m.\u001b[0m\u001b[0mread\u001b[0m\u001b[0;34m(\u001b[0m\u001b[0;34m)\u001b[0m\u001b[0;34m.\u001b[0m\u001b[0mstrip\u001b[0m\u001b[0;34m(\u001b[0m\u001b[0;34m)\u001b[0m\u001b[0;34m.\u001b[0m\u001b[0msplit\u001b[0m\u001b[0;34m(\u001b[0m\u001b[0;34m'\\n'\u001b[0m\u001b[0;34m)\u001b[0m\u001b[0;34m\u001b[0m\u001b[0m\n\u001b[0m\u001b[1;32m      5\u001b[0m \u001b[0mweight_list\u001b[0m \u001b[0;34m=\u001b[0m \u001b[0mcontent\u001b[0m\u001b[0;34m[\u001b[0m\u001b[0;36m0\u001b[0m\u001b[0;34m:\u001b[0m\u001b[0;34m:\u001b[0m\u001b[0;36m3\u001b[0m\u001b[0;34m]\u001b[0m\u001b[0;34m\u001b[0m\u001b[0m\n\u001b[1;32m      6\u001b[0m \u001b[0mvalue_list\u001b[0m \u001b[0;34m=\u001b[0m \u001b[0mcontent\u001b[0m\u001b[0;34m[\u001b[0m\u001b[0;36m1\u001b[0m\u001b[0;34m:\u001b[0m\u001b[0;34m:\u001b[0m\u001b[0;36m3\u001b[0m\u001b[0;34m]\u001b[0m\u001b[0;34m\u001b[0m\u001b[0m\n",
      "\u001b[0;31mNameError\u001b[0m: name 'infile' is not defined"
     ]
    }
   ],
   "source": [
    "import numpy as np\n",
    "\n",
    "file = \"./35_midterm_knapsack.csv\"\n",
    "content = open(file, \"r\").read().strip().split('\\n')\n",
    "weight_list = content[0::3]\n",
    "value_list = content[1::3]\n",
    "number_list = [\"\" for a in range(500)]\n",
    "full = \"\"\n",
    "\n",
    "    \n",
    "def Knapsack(capacity, w, v, number):\n",
    "        matrix = [[0 for x in range(capacity+1)]for x in range(number+1)]\n",
    "        for m in range(number+1):\n",
    "            for n in range(capacity+1):\n",
    "                if m == 0 or n == 0:\n",
    "                    matrix[m][n] = 0\n",
    "                elif w[m-1] <= n:\n",
    "                    matrix[m][n] = max(v[m-1]+ matrix[m-1][n-w[m-1]], matrix[m-1][n])\n",
    "                else:\n",
    "                    matrix[m][n] = matrix[m-1][n]         \n",
    "                \n",
    "        new_list = [0]*len(w)\n",
    "        sol = round(matrix[m][n],2)\n",
    "        for j in range(number, 0, -1): \n",
    "            if sol <= 0: \n",
    "                break\n",
    "            elif sol == round(matrix[j-1][capacity],2): \n",
    "                continue\n",
    "            else: \n",
    "                sol = round(sol - v[j - 1],2) \n",
    "                capacity = capacity - w[j-1] \n",
    "                new_list[j-1]= 1\n",
    "        return new_list\n",
    "        \n",
    "for i in range(len(weight_list)):\n",
    "    weight = weight_list[i].split(\",\")\n",
    "    w = [int(p) for p in weight]\n",
    "    value = value_list[i].split(\",\")\n",
    "    v = [float(q) for q in value]\n",
    "\n",
    "    capacity = np.random.randint(100, 150, 1000)\n",
    "    \n",
    "    number = len(w)\n",
    "    chosen_items_list=[]   \n",
    "    rewards=[]\n",
    "    weights=[]\n",
    "    for guess_capacity in capacity:\n",
    "        chosen_items= Knapsack(guess_capacity, w, v, number)\n",
    "        chosen_items_list.append(chosen_items)\n",
    "        weight = sum([c1*w1 for c1,w1 in zip(chosen_items, w)])\n",
    "        weights.append(weight)\n",
    "       \n",
    "        if weight > guess_capacity:\n",
    "            rewards.append(0)\n",
    "        else:\n",
    "            reward = sum([c1*v1 for c1, v1 in zip(chosen_items, w)])\n",
    "            rewards.append(reward)\n",
    "        best_index = rewards.index(max(rewards))\n",
    "        list_ans = chosen_items_list[best_index]\n",
    "        #list_ans = Knapsack(Capacity, w, v, number)\n",
    "        line = ','.join(str(k)for k in list_ans)\n",
    "        number_list[i] = line\n",
    "        full = full + weight_list[i] + '\\n' + value_list[i] + '\\n' + number_list[i] + '\\n'\n",
    "        \n",
    "                \n",
    "outfile = \"./35_midterm_knapsack.csv\"   \n",
    "write_file = open(file, \"w\").write(full)  \n",
    "\n",
    "\n"
   ]
  },
  {
   "cell_type": "code",
   "execution_count": null,
   "metadata": {},
   "outputs": [],
   "source": []
  }
 ],
 "metadata": {
  "kernelspec": {
   "display_name": "Python 3",
   "language": "python",
   "name": "python3"
  },
  "language_info": {
   "codemirror_mode": {
    "name": "ipython",
    "version": 3
   },
   "file_extension": ".py",
   "mimetype": "text/x-python",
   "name": "python",
   "nbconvert_exporter": "python",
   "pygments_lexer": "ipython3",
   "version": "3.6.5"
  }
 },
 "nbformat": 4,
 "nbformat_minor": 2
}
